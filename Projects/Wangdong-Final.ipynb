{
 "cells": [
  {
   "cell_type": "markdown",
   "metadata": {},
   "source": [
    "# An analysis of functions of colors  in Katherine Mansfield \"The Garden Party \" and other stories -- just as adjective or the colors have other functions.\n",
    "\n",
    "## Wangdong Zong\n",
    "\n",
    "Instructions: \n",
    "\n",
    "1. Replace \"yourname\" in the title of this notebook, and \"your name here\" in the markdown above, with your name.\n",
    "2. Create a title for your final project. Preferably, this should indicate what your argument is. Replace \"your title here\" in the markdown above with your title.\n",
    "3. Write your paper, and include everything (your prose in Markdown, your code, and your figures) in this notebook. Don't include the texts you're analyzing. If you generated your corpus programmatically (i.e. using corpus-db.org or some fancy Python), maybe you'll want to include that in the code somewhere here. Your notebook file (`.ipynb`) will be the only thing you turn in.  \n",
    "3. Annotate your code using markdown cells, and/or comment lines (lines beginning with `#`), explaining why you're doing what you're doing. If one of your functions takes certain parameters, for instance, why did you choose those parameters? \n",
    "3. Prune your notebook of unnecessary or redundant code. Run all your code again, to show that it works as-is. Each code cell should have a number in it, and an output, if applicable. \n",
    "4. Proofread well! If English is not your first language, you might consider making an appointment with [the Writing Center](https://slc.berkeley.edu/appointment-service) to get help polishing the language of your paper. At minimum, you'll want to use a spell checker and maybe even an automatic grammar-checking service like [Grammerly](https://www.grammarly.com/). (Of course, you now have the tools to analyze your own writing, if you want. You can get your markdown text into Python by adapting the word count function below, and use it to analyze your most frequent n-grams!) You might also consider organizing a mutual editing session with classmates.\n",
    "4. Ensure that you have no more than three plots (figures). One figure with several subplots is OK, and counts as one figure.\n",
    "4. If you quote from or reference literary works, or works of criticirm, provide in-text parenthetical citations. Then create a bibliographic entry for each work you cite, and include them at the end. Unless your discipline requires a different format, use [MLA Style](https://style.mla.org/) as the format for your bibliography, and title it \"works cited.\" \n",
    "4. Replace the value of the `filename` variable in the wordcount cell below to the name your file. (E.g., `Jonathan-Final.ipynb`.) Then run the wordcount cell. Ensure that your paper is between 1000 and 2000 words, so it doesn't give you any errors or warnings.  \n",
    "5. Optionally, and for a 5% bonus, add your notebook to the `/Projects` directory of the course repository, and submit it as a pull request. Your project will then become public. \n",
    "6. Email me your `.ipynb` file: jonathan.reeve@columbia.edu. Please email me only your `.ipynb` file, alone and uncompressed. Please don't respond to an existing email, but create a new email, with the subject: `Yourname: Final Project`, replacing `yourname` with your name. Do this regardless of whether you also submit a pull request. \n",
    "7. Celebrate! You've finished your final project, and gloriously completed _Introduction to Computational Literary Analysis_!"
   ]
  },
  {
   "cell_type": "code",
   "execution_count": 7,
   "metadata": {},
   "outputs": [],
   "source": [
    "# Import all your libraries here, and only here, please.\n",
    "\n",
    "# Don't remove this line. It's necessary for the wordcount function \n",
    "# below to work. \n",
    "from IPython.nbformat import current\n",
    "import nltk\n",
    "from nltk.corpus import wordnet as wn\n",
    "from collections import Counter\n",
    "from nltk import word_tokenize, Text\n",
    "import pandas as pd\n",
    "\n",
    "\n",
    "# This is to make your plots a little bigger.\n",
    "# You may adjust this, but be careful of making your plots too big or too small.\n",
    "import matplotlib.pyplot as plt\n",
    "plt.rcParams['figure.figsize'] = [10, 6]"
   ]
  },
  {
   "cell_type": "markdown",
   "metadata": {},
   "source": [
    "Introduction \n",
    "\n",
    "For \"The garden Party\", which showed that the upper and lower class contradictions cannot be reconciled. Firstly, the summary of the article would be introduced:\"Lara is a kind girl. Their family wants to run a Party. At the beginning, Lara pretends to be her mother, directs the workers, and later finds that they are easy to get along with. Then one of their neighbors died, and she didn't want to do it, but her mother and sister thought she was funny. But when Lara had a beautiful hat, she immediately became happy and forgot about it. Later, they found their conscience and sent the meal to the family of the dead, but that was also left.\" Now that the article talked about the party, there are many colors describing the decoration. And the number of the color should be calculated by python. And how about other stories written by Katherine Mansfield? Was the writer good at using the colors?\n",
    "\n",
    "Hypothesis \n",
    "\n",
    "According to Herman(2017), red stands for excitement, strength, sex, passion, speed, danger as well as aggression and anger domineering, over-bearing and tiring,quick-tempered, ruthless, fearful and intolerant, rebellious and obstinate resentful, violent and brut. And in China, red means good luck. During the spring festival, everyone is wearing red new clothes, playing red firecrackers, receiving red packets, and blessings are including \"red\". The army in China during World War II was called the Red Army, and now the generations of the soldiers during world war II are called the second generation of \"Red\". Consequently, there are lots of functions about the colors. \n",
    "\n",
    "In the article \"The Garden Party\" and other stories, there are more than one hundred words about colors. The phenomenon interests me a lot. And what the functions of the words of colors. The words are only used for describing the colors or have other functions. It is my argument about the article. Color is a visual perception. American scholar Dennis Puhalla (2005) claimed color is an intrinsic visual attribute as a form of language and information. Consequently, the colors have lots of functions."
   ]
  },
  {
   "cell_type": "markdown",
   "metadata": {},
   "source": [
    "Test\n",
    "\n",
    "In the part, I will use python to find all words about colours in the article and analyze the functions of every word. Then, I will make some figures which could clearly show the proportion of different functions of words. Finally, use the results to test the hypothrsis."
   ]
  },
  {
   "cell_type": "code",
   "execution_count": 48,
   "metadata": {},
   "outputs": [],
   "source": [
    "wn.synsets('yellow')\n",
    "color = wn.synsets('yellow', pos='n')[0].hypernyms()[0]\n",
    "Colors=color.hyponyms()\n",
    "colour=[item.lemma_names() for item in Colors]\n",
    "colors=[]\n",
    "def colours(colour):\n",
    "    for item in colour:\n",
    "        for subitem in item:\n",
    "            colors.append(subitem)\n",
    "# use the wordnet to find a list of colors."
   ]
  },
  {
   "cell_type": "code",
   "execution_count": 55,
   "metadata": {},
   "outputs": [
    {
     "name": "stdout",
     "output_type": "stream",
     "text": [
      "[Errno 2] No such file or directory: 'Desktop'\n",
      "/Users/kingdom/Desktop\n"
     ]
    }
   ],
   "source": [
    "%cd Desktop"
   ]
  },
  {
   "cell_type": "code",
   "execution_count": 114,
   "metadata": {},
   "outputs": [
    {
     "name": "stdout",
     "output_type": "stream",
     "text": [
      "blonde 2\n",
      "blue 46\n",
      "brown 8\n",
      "green 22\n",
      "olive 3\n",
      "orange 1\n",
      "pink 29\n",
      "purple 5\n",
      "red 28\n",
      "salmon 1\n",
      "yellow 21\n"
     ]
    }
   ],
   "source": [
    "TGPALL= open('garden-party.md').read().lower()\n",
    "TGPALLparts=TGPALL.split('%%%%%')\n",
    "TGPALLTokens=word_tokenize(TGPALL)\n",
    "TGP=TGPALLparts[2]\n",
    "TGPTokens=word_tokenize(TGP)\n",
    "coloR={}\n",
    "for color in colors:\n",
    "    if color in TGPALLTokens:\n",
    "        colorCounter=Counter(TGPALLTokens)\n",
    "        coloR[color]=colorCounter[color]\n",
    "        print(color,colorCounter[color])\n",
    "        #The numebr of words about colourin The Garden Party and other stories\n",
    "        \n",
    "        "
   ]
  },
  {
   "cell_type": "code",
   "execution_count": 71,
   "metadata": {},
   "outputs": [
    {
     "name": "stdout",
     "output_type": "stream",
     "text": [
      "blue 2\n",
      "brown 1\n",
      "green 4\n",
      "olive 3\n",
      "pink 2\n",
      "red 1\n",
      "yellow 1\n"
     ]
    }
   ],
   "source": [
    "ColoR={}\n",
    "for color in colors:\n",
    "    if color in TGATokens:\n",
    "        ColorCounter=Counter(TGPTokens)\n",
    "        ColoR[color]=ColorCounter[color]\n",
    "        print(color,ColorCounter[color])\n",
    "         #The numebr of words about colourin The Garden Party.\n",
    "        "
   ]
  },
  {
   "cell_type": "code",
   "execution_count": 85,
   "metadata": {},
   "outputs": [
    {
     "name": "stdout",
     "output_type": "stream",
     "text": [
      "Displaying 2 of 2 matches:\n",
      " , the sky without a cloud . only the blue was veiled with a haze of light gold \n",
      "eyes he had , small , but such a dark blue ! and now she looked at the others , \n",
      "Displaying 4 of 4 matches:\n",
      "had come out in a single night ; the green bushes bowed down as though they had\n",
      "and she sat drinking her coffee in a green turban , with a dark wet curl stampe\n",
      "quick steps and running voices . the green baize door that led to the kitchen r\n",
      "the kitchen to the other side of the green baize door . there she paused and le\n",
      "Displaying 3 of 3 matches:\n",
      ". it ca n't be mice , can it ? '' `` olive , pet , '' said laura , looking over\n",
      " her shoulder . `` yes , of course , olive . what a horrible combination it sou\n",
      "ible combination it sounds . egg and olive . '' they were finished at last , an\n",
      "Displaying 2 of 2 matches:\n",
      "a wide , shallow tray full of pots of pink lilies . no other kind . nothing but \n",
      "ing but lilies -- -canna lilies , big pink flowers , wide open , radiant , almos\n",
      "Displaying 1 of 1 matches:\n",
      "turned round . her face , puffed up , red , with swollen eyes and swollen lips \n",
      "Displaying 1 of 1 matches:\n",
      "aming leaves , and their clusters of yellow fruit . they were like trees you ima\n",
      "Displaying 1 of 1 matches:\n",
      "e mean dwellings painted a chocolate brown . in the garden patches there was no\n"
     ]
    }
   ],
   "source": [
    "TGPtext=Text(TGPTokens)\n",
    "TGPtext.concordance('blue', width=100)\n",
    "TGPtext.concordance('green', width=100)\n",
    "TGPtext.concordance('olive', width=100)\n",
    "TGPtext.concordance('pink', width=100)\n",
    "TGPtext.concordance('red', width=100)\n",
    "TGPtext.concordance('yellow', width=100)\n",
    "TGPtext.concordance('brown', width=100)\n",
    "\n",
    "\n",
    "# The sentences with the words about color in \"The Garden Party\""
   ]
  },
  {
   "cell_type": "markdown",
   "metadata": {},
   "source": [
    "And in the part, I will analyze the function of every word about colors in \"The Garden Party\":\n",
    "\n",
    "    For \"blue\", there are two matches. The first one is \"the blue\", which represented the blue sky. So, the function of the color can represent a thing because \"the\" plus an adjective could stand for a thing. (One function is \"represent a thing(noun)\"). The second one is \"a dark blue\". Also, the \"blue\" is also representing a thing(a blue eye). But, the 'blue' also means melancholy and depression，which could show the character of the boy.(The function is \"to show the characters of people\").\n",
    "       \n",
    "       For \"green\", there are four matches-\"the green bushes\",\"a green turban\",\"the green baize\", \"the green baize\". The four \"green\"all describe the color character of a thing. (The function is describing the color character of a thing(basic function)).\n",
    "       \n",
    "       For \"Olive\", there are three matches. Firstly, the word of \"olive, pet,\" just means the olive which is a kind of fruit. And the \"olive\" is a word about fruit instead of a word of color. Consequently,  these three words cannot be considered as the words about colors.(No matches)\n",
    "       \n",
    "       For \"pink\",there are two matches. The first one is \"pink lilies\", the function is only about describing the flowers. Also, the second one is \"pink flowers\" is the same function.(The function is describing the color character of a thing(basic function))\n",
    "       \n",
    "       For \"red\", there is only one match. \"Red\" here is used for describing the face of the girl. Besides, the \"red\" shew the girl is shy, which means the word could show the character of people.(The function is \"to show the characters of people\").\n",
    "       \n",
    "        For \"yellow\", there is only one match. \"Yellow\" here is also just an adjective word for describing the fruit.(The function is describing the color character of a thing(basic function)).\n",
    "        \n",
    "       For \"brown\", there is only a match for the \"brown\". Here, the \"brown\" is representing a kind of paint.(The function is \"represent a thing(noun)\").\n",
    "       \n",
    "       In conclusion, in \"The garden Party\", the words of the colors mainly have three functions: 1. Describing the color character of a thing(basic function); 2. Represent a thing or things(noun); 3.Show the characters of people. Next, statistics of the functions of colors about \"The Garden Party\" would be made.\n",
    "       \n",
    "       Then, I will provide an item called color function rate(CFR), which equal the number of words of function2 and function3 by that of all functions.\n",
    "       \n",
    "      Function1:  7(green*4, Pink*2, yellow*1)\n",
    "      Function2: 2(blue* 1, brown*1)\n",
    "      Function3: 2(blue*1, red*1)  \n",
    "      \n",
    "      So, the rate(\"The Garden Party\")=4/11, which could show the function2 and function3 are used frequently in \"The Garden Party\".\n",
    "      Another item called nC=the number of words of colors used in an article."
   ]
  },
  {
   "cell_type": "code",
   "execution_count": 91,
   "metadata": {},
   "outputs": [],
   "source": [
    "ColorDictionary={\"Function1\": 7,\"Function2\": 2, \"Function3\": 2}"
   ]
  },
  {
   "cell_type": "code",
   "execution_count": 95,
   "metadata": {},
   "outputs": [
    {
     "data": {
      "text/plain": [
       "<matplotlib.axes._subplots.AxesSubplot at 0x1a1f75d9b0>"
      ]
     },
     "execution_count": 95,
     "metadata": {},
     "output_type": "execute_result"
    },
    {
     "data": {
      "image/png": "[encoded data removed]",
      "text/plain": [
       "<Figure size 720x432 with 1 Axes>"
      ]
     },
     "metadata": {},
     "output_type": "display_data"
    }
   ],
   "source": [
    "pd.Series(ColorDictionary).plot(kind='pie')\n",
    "# the figure shows the proportion of the functions of colors in “The Garden Party”."
   ]
  },
  {
   "cell_type": "markdown",
   "metadata": {},
   "source": [
    "Later, the \"color function rate\" of every article written by Katherine Mansfield the in the corpus would be caculated, which would be used for analyzing whether Katherine Mansfield was good at using the functions of colors. But the details like that in the analysis for \"The Garden Party\" would not be appeared for saving the space."
   ]
  },
  {
   "cell_type": "code",
   "execution_count": 116,
   "metadata": {},
   "outputs": [
    {
     "name": "stdout",
     "output_type": "stream",
     "text": [
      "Displaying 19 of 19 matches:\n",
      " heavy dew had fallen . the grass was blue . big drops hung on the bushes and ju\n",
      "knee , and a wide-awake with a folded blue handkerchief round the brim . one han\n",
      " the far-away sky -- -a bright , pure blue -- -was reflected in the puddles , an\n",
      "ooking old man . as he lit up and the blue smoke wreathed his head , the dog , w\n",
      " was out of the water jonathan turned blue with cold . he ached all over ; it wa\n",
      "oom when stanley appeared , wearing a blue serge suit , a stiff collar and a spo\n",
      " mean ? as stanley helped himself his blue eyes widened ; they seemed to quiver \n",
      "ge plate . they were dressed alike in blue jerseys and knickers ; their brown le\n",
      "ery hopeful nature . the pink and the blue sunbonnet followed isabel 's bright r\n",
      "rather than a man . black hair , dark blue eyes , red lips , a slow sleepy smile\n",
      "ally -- -her underclothes ! a pair of blue cotton knickers and a linen bodice th\n",
      " . it was that marvellous transparent blue , flecked with silver , but the sand \n",
      "aves of the manuka , at the chinks of blue between , and now and again a tiny ye\n",
      "n the fine sand , baking the grey and blue and black and white-veined pebbles . \n",
      "ch pool was like a lake with pink and blue houses clustered on the shores ; and \n",
      "hey were changing to a cold moonlight blue . and now there sounded the faintest \n",
      "etched in the very middle of it . his blue eye was turned up , his legs stuck ou\n",
      "ld cover the whole sky . overhead the blue faded ; it turned a pale gold , and t\n",
      " . she was standing on the beach in a blue '' -- -no , pink -- - '' muslin frock\n",
      "Displaying 4 of 4 matches:\n",
      "that winked , that was a most lovely green . `` it 's a nemeral , '' said pip s\n",
      "en isabel was impressed . the lovely green thing seemed to dance in pip 's fing\n",
      "rtiums wreathed the veranda poles in green and gold flame . if only one had tim\n",
      "eaweed smelt in the hot sun\\ ... the green blinds were drawn in the bungalows o\n",
      "no matches\n",
      "Displaying 9 of 9 matches:\n",
      "ie 's was a very hopeful nature . the pink and the blue sunbonnet followed isabe\n",
      "er . he was serious again . something pink , something soft waved in front of hi\n",
      "f the curved shells ; it bleached the pink convolvulus that threaded through and\n",
      "over , each pool was like a lake with pink and blue houses clustered on the shor\n",
      "lost . something was happening to the pink , waving trees ; they were changing t\n",
      " at the window , with a long piece of pink knitting in her lap . this room that \n",
      ". what a neck she had ! it was bright pink where it began and then it changed to\n",
      "e grass , stopping to pick off a dead pink or give a top-heavy carnation somethi\n",
      "ng on the beach in a blue '' -- -no , pink -- - '' muslin frock , holding on a b\n",
      "Displaying 11 of 11 matches:\n",
      "erd stopped whistling ; he rubbed his red nose and wet beard on his wet sleeve \n",
      "old salad bowl filled with yellow and red nasturtiums . she smiled , and a look\n",
      "to her . by this time lottie was very red in the face and breathing heavily . `\n",
      "e sunbonnet followed isabel 's bright red sunbonnet up that sliding , slipping \n",
      "one , will you ? '' and glad-eyes , a red bow in her hair instead of a cap , an\n",
      "a man . black hair , dark blue eyes , red lips , a slow sleepy smile , a fine t\n",
      " a white cotton dress with such large red spots on it and so many that they mad\n",
      "pen the door . the bell jangled , the red serge curtains parted , and mrs. stub\n",
      ". just below , in silver letters on a red cardboard ground , were the words , `\n",
      "le-do ! '' shrilled isabel . with her red cheeks and bright eyes she looked lik\n",
      "ttie and pointed . lottie turned very red ; she looked bewildered , and at last\n",
      "Displaying 7 of 7 matches:\n",
      "e other grasped a beautifully smooth yellow stick . and as he walked , taking hi\n",
      " old gran . the sheep strayed over a yellow swamp and wag , the sheep-dog , padd\n",
      "en window streamed the sun on to the yellow varnished walls and bare floor . eve\n",
      "re was an old salad bowl filled with yellow and red nasturtiums . she smiled , a\n",
      "an exquisite small thing . each pale yellow petal shone as if each was the caref\n",
      "little rafts and boats . she saw the yellow hats of the boatmen and she heard th\n",
      "ss . over her white frock she wore a yellow , pink-fringed shawl from the chinam\n",
      "Displaying 4 of 4 matches:\n",
      "in blue jerseys and knickers ; their brown legs were bare , and each had her ha\n",
      " food . a big washhand basin of very brown fruit-salad , buns cut into four and\n",
      "n , pouring in the water that turned brown like cocoa . `` here , shall i show \n",
      " , and that faded to the colour of a brown egg and then to a deep creamy . `` a\n",
      "no matches\n",
      "no matches\n",
      "no matches\n"
     ]
    }
   ],
   "source": [
    "TB=TGPALLparts[1]\n",
    "TBTokens=word_tokenize(TB)\n",
    "TBtext=Text(TBTokens)\n",
    "TBtext.concordance('blue', width=100)\n",
    "TBtext.concordance('green', width=100)\n",
    "TBtext.concordance('olive', width=100)\n",
    "TBtext.concordance('pink', width=100)\n",
    "TBtext.concordance('red', width=100)\n",
    "TBtext.concordance('yellow', width=100)\n",
    "TBtext.concordance('brown', width=100)\n",
    "TBtext.concordance('salmon', width=100)\n",
    "TBtext.concordance('purple', width=100)\n",
    "TBtext.concordance('blonde', width=100)\n",
    "#The sentences with the words about color in \"The Bay\" .\n",
    "nC(number of colors)=54\n",
    "CFR(color function rate)=17/54\n"
   ]
  },
  {
   "cell_type": "code",
   "execution_count": 118,
   "metadata": {},
   "outputs": [
    {
     "name": "stdout",
     "output_type": "stream",
     "text": [
      "no matches\n",
      "Displaying 1 of 1 matches:\n",
      "f constantia 's favourite indefinite green ones which went with hers . black ! \n",
      "no matches\n",
      "no matches\n",
      "Displaying 3 of 3 matches:\n",
      " another helping . josephine got very red when this happened , and she fastened\n",
      "sh brims . josephine curved her small red hands round the cup ; constantia sat \n",
      "here fell a square of sunlight , pale red ; it came and went and came -- -and s\n",
      "Displaying 1 of 1 matches:\n",
      "n his lap there lay a beautiful pale yellow silk handkerchief . `` it 's cyril ,\n",
      "no matches\n",
      "no matches\n",
      "Displaying 3 of 3 matches:\n",
      " . oh , far from it ! he lay there , purple , a dark , angry purple in the face \n",
      " lay there , purple , a dark , angry purple in the face , and never even looked \n",
      "her pinner , curving his hand like a purple meringue-shell over one ear . joseph\n",
      "no matches\n"
     ]
    }
   ],
   "source": [
    "TG=TGPALLparts[3]\n",
    "TGTokens=word_tokenize(TG)\n",
    "TGtext=Text(TGTokens)\n",
    "TGtext.concordance('blue', width=100)\n",
    "TGtext.concordance('green', width=100)\n",
    "TGtext.concordance('olive', width=100)\n",
    "TGtext.concordance('pink', width=100)\n",
    "TGtext.concordance('red', width=100)\n",
    "TGtext.concordance('yellow', width=100)\n",
    "TGtext.concordance('brown', width=100)\n",
    "TGtext.concordance('salmon', width=100)\n",
    "TGtext.concordance('purple', width=100)\n",
    "TGtext.concordance('blonde', width=100)\n",
    "#The sentences with the words about color in \" The Daughters of the Late Colonel\".\n",
    "nC=8\n",
    "CFR=4/8"
   ]
  },
  {
   "cell_type": "code",
   "execution_count": 119,
   "metadata": {},
   "outputs": [
    {
     "name": "stdout",
     "output_type": "stream",
     "text": [
      "Displaying 3 of 3 matches:\n",
      "a tie out of the chest of drawers , a blue and cream check tie , and sat on the \n",
      "aw the garden open to the light , the blue quivering sky , the flutter of leaves\n",
      "he dark ilex-tree beside it . a wet , blue thumb of transparent smoke hung above\n",
      "Displaying 5 of 5 matches:\n",
      "ened ? his hair looked almost bright green . dash it all , he had n't green hai\n",
      "ght green . dash it all , he had n't green hair at all events . that was a bit \n",
      "t was a bit too steep . and then the green light trembled in the glass ; it was\n",
      "the point of her cigarette round the green ash-tray . how beautiful she looked \n",
      "tumped his cigarette savagely on the green ash-tray . `` i could stand any amou\n",
      "no matches\n",
      "Displaying 2 of 2 matches:\n",
      "s , along the garden path , under the pink rose arches , across the lawn . there\n",
      "d this time he nearly ran , under the pink arches , along the garden path . `` r\n",
      "Displaying 1 of 1 matches:\n",
      "to and fro , to and fro over the fine red sand on the floor of the dove house ,\n",
      "Displaying 1 of 1 matches:\n",
      "u know . '' she got up and took some yellow grains out of a bag on the roof of t\n",
      "no matches\n",
      "no matches\n",
      "no matches\n",
      "no matches\n"
     ]
    }
   ],
   "source": [
    "DOVE=TGPALLparts[4]\n",
    "DOVETokens=word_tokenize(DOVE)\n",
    "DOVEtext=Text(DOVETokens)\n",
    "DOVEtext.concordance('blue', width=100)\n",
    "DOVEtext.concordance('green', width=100)\n",
    "DOVEtext.concordance('olive', width=100)\n",
    "DOVEtext.concordance('pink', width=100)\n",
    "DOVEtext.concordance('red', width=100)\n",
    "DOVEtext.concordance('yellow', width=100)\n",
    "DOVEtext.concordance('brown', width=100)\n",
    "DOVEtext.concordance('salmon', width=100)\n",
    "DOVEtext.concordance('purple', width=100)\n",
    "DOVEtext.concordance('blonde', width=100)\n",
    "#The sentences with the words about color in \" Mr. and Mrs. Dove \".\n",
    "nC=12\n",
    "CFR=1/12\n"
   ]
  },
  {
   "cell_type": "code",
   "execution_count": 120,
   "metadata": {},
   "outputs": [
    {
     "name": "stdout",
     "output_type": "stream",
     "text": [
      "Displaying 5 of 5 matches:\n",
      " blue dress , with her cheeks lightly flush\n",
      "with her cheeks lightly flushed , her blue , blue eyes , and her gold curls pinn\n",
      "r cheeks lightly flushed , her blue , blue eyes , and her gold curls pinned up a\n",
      "arnations and pink plates with little blue tea-napkins for sails . `` shall we s\n",
      "at -- -all her soft young body in the blue dress -- -was like a flower that is j\n",
      "Displaying 1 of 1 matches:\n",
      "ient , withered creature , wearing a green satin dress , a black velvet cloak a\n",
      "no matches\n",
      "Displaying 2 of 2 matches:\n",
      " heels . there was one table . it had pink carnations and pink plates with littl\n",
      "ne table . it had pink carnations and pink plates with little blue tea-napkins f\n",
      "no matches\n",
      "no matches\n",
      "no matches\n",
      "no matches\n",
      "Displaying 1 of 1 matches:\n",
      "ck velvet cloak and a white hat with purple feathers , jerked slowly , slowly up\n",
      "no matches\n"
     ]
    }
   ],
   "source": [
    "TYG=TGPALLparts[5]\n",
    "TYGTokens=word_tokenize(TYG)\n",
    "TYGtext=Text(TYGTokens)\n",
    "TYGtext.concordance('blue', width=100)\n",
    "TYGtext.concordance('green', width=100)\n",
    "TYGtext.concordance('olive', width=100)\n",
    "TYGtext.concordance('pink', width=100)\n",
    "TYGtext.concordance('red', width=100)\n",
    "TYGtext.concordance('yellow', width=100)\n",
    "TYGtext.concordance('brown', width=100)\n",
    "TYGtext.concordance('salmon', width=100)\n",
    "TYGtext.concordance('purple', width=100)\n",
    "TYGtext.concordance('blonde', width=100)\n",
    "#The sentences with the words about color in \" The Young Girl \".\n",
    "nC=9\n",
    "CFR=2/9\n"
   ]
  },
  {
   "cell_type": "code",
   "execution_count": 121,
   "metadata": {},
   "outputs": [
    {
     "name": "stdout",
     "output_type": "stream",
     "text": [
      "Displaying 1 of 1 matches:\n",
      " a girl . silvery fair curls he had , blue eyes , and a little freckle like a di\n",
      "no matches\n",
      "no matches\n",
      "no matches\n",
      "no matches\n",
      "no matches\n",
      "no matches\n",
      "no matches\n",
      "no matches\n",
      "no matches\n"
     ]
    }
   ],
   "source": [
    "LMP=TGPALLparts[6]\n",
    "LMPTokens=word_tokenize(LMP)\n",
    "LMPtext=Text(LMPTokens)\n",
    "LMPtext.concordance('blue', width=100)\n",
    "LMPtext.concordance('green', width=100)\n",
    "LMPtext.concordance('olive', width=100)\n",
    "LMPtext.concordance('pink', width=100)\n",
    "LMPtext.concordance('red', width=100)\n",
    "LMPtext.concordance('yellow', width=100)\n",
    "LMPtext.concordance('brown', width=100)\n",
    "LMPtext.concordance('salmon', width=100)\n",
    "LMPtext.concordance('purple', width=100)\n",
    "LMPtext.concordance('blonde', width=100)\n",
    "#The sentences with the words about color in \" Life of Ma Parker\".\n",
    "nC=1\n",
    "CFR=1/1\n"
   ]
  },
  {
   "cell_type": "code",
   "execution_count": 122,
   "metadata": {},
   "outputs": [
    {
     "name": "stdout",
     "output_type": "stream",
     "text": [
      "Displaying 2 of 2 matches:\n",
      "to our decision -- - '' he took out a blue pencil and scored a paragraph slowly \n",
      "tle house . a little white house with blue curtains and a window-box of petunias\n",
      "Displaying 2 of 2 matches:\n",
      "hat was strewn with little black and green boxes . `` what is what , william ? \n",
      "the taxi , with bill hunt and dennis green sprawling on one side , their hats t\n",
      "no matches\n",
      "Displaying 2 of 2 matches:\n",
      "and johnny had said , `` it 's always pink on mine . i hate pink . '' but what w\n",
      "`` it 's always pink on mine . i hate pink . '' but what was william to do ? the\n",
      "Displaying 1 of 1 matches:\n",
      "again . and paddy had said , `` i had red ribbing on mine bee-fore ! '' and joh\n",
      "Displaying 3 of 3 matches:\n",
      "foot children . it blazed on a silky yellow flower with coarse leaves which spra\n",
      "room . it was a long room , coloured yellow . on the wall opposite william some \n",
      " '' he said rudely , '' far too much yellow '' ; and went on eating . and that s\n",
      "no matches\n",
      "Displaying 1 of 1 matches:\n",
      "p wondering what had happened to the salmon they had for supper last night . she\n",
      "no matches\n",
      "no matches\n"
     ]
    }
   ],
   "source": [
    "MLM=TGPALLparts[7]\n",
    "MLMTokens=word_tokenize(MLM)\n",
    "MLMtext=Text(MLMTokens)\n",
    "MLMtext.concordance('blue', width=100)\n",
    "MLMtext.concordance('green', width=100)\n",
    "MLMtext.concordance('olive', width=100)\n",
    "MLMtext.concordance('pink', width=100)\n",
    "MLMtext.concordance('red', width=100)\n",
    "MLMtext.concordance('yellow', width=100)\n",
    "MLMtext.concordance('brown', width=100)\n",
    "MLMtext.concordance('salmon', width=100)\n",
    "MLMtext.concordance('purple', width=100)\n",
    "MLMtext.concordance('blonde', width=100)\n",
    "#The sentences with the words about color in \" Marriage a la Mode \".\n",
    "nC=11\n",
    "CFR=5/11\n"
   ]
  },
  {
   "cell_type": "code",
   "execution_count": 123,
   "metadata": {},
   "outputs": [
    {
     "name": "stdout",
     "output_type": "stream",
     "text": [
      "Displaying 3 of 3 matches:\n",
      "to meet them . she was dressed all in blue , and her collar and cuffs were faste\n",
      "ater in the bottle was like a kind of blue jelly . how hard it was , too , to tu\n",
      "pleased . her white waxen cheeks were blue with cold , her chin trembled , and s\n",
      "Displaying 1 of 1 matches:\n",
      "e , and frowned terribly at a little green star on a mast head . but she had to\n",
      "no matches\n",
      "Displaying 1 of 1 matches:\n",
      "o keep wiping her eyes and her little pink nose . `` you 've got my -- - '' '' y\n",
      "Displaying 1 of 1 matches:\n",
      "on one side of the door , and a large red watering-can on the other . `` tut ! \n",
      "no matches\n",
      "Displaying 1 of 1 matches:\n",
      "ght laugh again . the hard square of brown soap would not lather , and the wate\n",
      "no matches\n",
      "no matches\n",
      "no matches\n"
     ]
    }
   ],
   "source": [
    "TV=TGPALLparts[8]\n",
    "TVTokens=word_tokenize(TV)\n",
    "TVtext=Text(TVTokens)\n",
    "TVtext.concordance('blue', width=100)\n",
    "TVtext.concordance('green', width=100)\n",
    "TVtext.concordance('olive', width=100)\n",
    "TVtext.concordance('pink', width=100)\n",
    "TVtext.concordance('red', width=100)\n",
    "TVtext.concordance('yellow', width=100)\n",
    "TVtext.concordance('brown', width=100)\n",
    "TVtext.concordance('salmon', width=100)\n",
    "TVtext.concordance('purple', width=100)\n",
    "TVtext.concordance('blonde', width=100)\n",
    "#The sentences with the words about color in \" The Voyage \".\n",
    "nC=7\n",
    "CFR=1/7\n"
   ]
  },
  {
   "cell_type": "code",
   "execution_count": 131,
   "metadata": {},
   "outputs": [
    {
     "name": "stdout",
     "output_type": "stream",
     "text": [
      "Displaying 3 of 3 matches:\n",
      " blue sky powdered with gold and great spot\n",
      "m just a line of sea , and beyond the blue sky with gold-veined clouds . tum-tum\n",
      "red came by and two young soldiers in blue met them , and they laughed and paire\n",
      "Displaying 2 of 2 matches:\n",
      "ow , and the bandsmen sitting in the green rotunda blew out their cheeks and gl\n",
      " other people sat on the benches and green chairs , but they were nearly always\n",
      "no matches\n",
      "no matches\n",
      "Displaying 3 of 3 matches:\n",
      "o see them snap at her again from the red eiderdown ! \\ ... but the nose , whic\n",
      " ! blew the band . two young girls in red came by and two young soldiers in blu\n",
      "ke a cupboard -- -and sat down on the red eiderdown . she sat there for a long \n",
      "Displaying 2 of 2 matches:\n",
      "d the rotunda the slender trees with yellow leaves down drooping , and through t\n",
      "toque she'd bought when her hair was yellow . now everything , her hair , her fa\n",
      "Displaying 1 of 1 matches:\n",
      "ainted ? but it wasn't till a little brown dog trotted on solemn and then slowl\n",
      "no matches\n",
      "no matches\n",
      "no matches\n"
     ]
    }
   ],
   "source": [
    "MB=TGPALLparts[9]\n",
    "MBTokens=word_tokenize(MB)\n",
    "MBtext=Text(MBTokens)\n",
    "MBtext.concordance('blue', width=100)\n",
    "MBtext.concordance('green', width=100)\n",
    "MBtext.concordance('olive', width=100)\n",
    "MBtext.concordance('pink', width=100)\n",
    "MBtext.concordance('red', width=100)\n",
    "MBtext.concordance('yellow', width=100)\n",
    "MBtext.concordance('brown', width=100)\n",
    "MBtext.concordance('salmon', width=100)\n",
    "MBtext.concordance('purple', width=100)\n",
    "MBtext.concordance('blonde', width=100)\n",
    "#The sentences with the words about color in \" Miss Brill \".\n",
    "nC=11\n",
    "CFR=2/11\n"
   ]
  },
  {
   "cell_type": "code",
   "execution_count": 125,
   "metadata": {},
   "outputs": [
    {
     "name": "stdout",
     "output_type": "stream",
     "text": [
      "no matches\n",
      "no matches\n",
      "no matches\n",
      "Displaying 5 of 5 matches:\n",
      "e . leila put two fingers on laura 's pink velvet cloak , and they were somehow \n",
      "tle pink-and-silver programmes , with pink pencils and fluffy tassels . leila 's\n",
      "eparate flowers no longer ; they were pink and white flags streaming by . `` wer\n",
      "s against the wall . leila tucked her pink satin feet under and fanned herself ,\n",
      "hts , the azaleas , the dresses , the pink faces , the velvet chairs , all becam\n",
      "Displaying 1 of 1 matches:\n",
      "terns , the stage at one end with its red carpet and gilt chairs and the band i\n",
      "no matches\n",
      "Displaying 1 of 1 matches:\n",
      "the poor terrified little woman in a brown velvet toque with rabbit 's ears thu\n",
      "no matches\n",
      "no matches\n",
      "no matches\n"
     ]
    }
   ],
   "source": [
    "HFB=TGPALLparts[10]\n",
    "HFBTokens=word_tokenize(HFB)\n",
    "HFBtext=Text(HFBTokens)\n",
    "HFBtext.concordance('blue', width=100)\n",
    "HFBtext.concordance('green', width=100)\n",
    "HFBtext.concordance('olive', width=100)\n",
    "HFBtext.concordance('pink', width=100)\n",
    "HFBtext.concordance('red', width=100)\n",
    "HFBtext.concordance('yellow', width=100)\n",
    "HFBtext.concordance('brown', width=100)\n",
    "HFBtext.concordance('salmon', width=100)\n",
    "HFBtext.concordance('purple', width=100)\n",
    "HFBtext.concordance('blonde', width=100)\n",
    "#The sentences with the words about color in \" Her First Ball\".\n",
    "nC=7\n",
    "CFR=0/7\n"
   ]
  },
  {
   "cell_type": "code",
   "execution_count": 126,
   "metadata": {},
   "outputs": [
    {
     "name": "stdout",
     "output_type": "stream",
     "text": [
      "Displaying 3 of 3 matches:\n",
      " you look fro-zen , '' said she . her blue eyes opened wide ; there came a mocki\n",
      "handsome he had looked in that bright blue suit , with that dark red rose ! and \n",
      "ly the door opened . a little girl in blue walked fussily up the aisle , hanging\n",
      "no matches\n",
      "no matches\n",
      "Displaying 2 of 2 matches:\n",
      "loured flannel blouses , with bobbing pink faces and hands , quivering butterfly\n",
      "ery kindly . and then she picked up a pink envelope from the blotting-pad . `` i\n",
      "Displaying 2 of 2 matches:\n",
      "hat bright blue suit , with that dark red rose ! and he knew it , too . he coul\n",
      "and twisting the silver bangle on her red little wrist . she came up the steps \n",
      "Displaying 3 of 3 matches:\n",
      " a bee caught in the tangles of that yellow hair . `` it is rather sharp , '' sa\n",
      "n handed to her mistress a beautiful yellow chrysanthemum . this little ritual o\n",
      "thirty-two , '' and , picking up the yellow chrysanthemum , she held it to her l\n",
      "no matches\n",
      "no matches\n",
      "no matches\n",
      "no matches\n"
     ]
    }
   ],
   "source": [
    "TSL=TGPALLparts[11]\n",
    "TSLTokens=word_tokenize(TSL)\n",
    "TSLtext=Text(TSLTokens)\n",
    "TSLtext.concordance('blue', width=100)\n",
    "TSLtext.concordance('green', width=100)\n",
    "TSLtext.concordance('olive', width=100)\n",
    "TSLtext.concordance('pink', width=100)\n",
    "TSLtext.concordance('red', width=100)\n",
    "TSLtext.concordance('yellow', width=100)\n",
    "TSLtext.concordance('brown', width=100)\n",
    "TSLtext.concordance('salmon', width=100)\n",
    "TSLtext.concordance('purple', width=100)\n",
    "TSLtext.concordance('blonde', width=100)\n",
    "#The sentences with the words about color in \" The Singing Lesson \".\n",
    "nC=10\n",
    "CFR=1/10\n"
   ]
  },
  {
   "cell_type": "code",
   "execution_count": 127,
   "metadata": {},
   "outputs": [
    {
     "name": "stdout",
     "output_type": "stream",
     "text": [
      "no matches\n",
      "Displaying 1 of 1 matches:\n",
      " was so strange to him ; to part the green curtains after her and to step into \n",
      "no matches\n",
      "Displaying 1 of 1 matches:\n",
      "s , and a dozen new collars tied with pink tape . `` is this all your luggage ? \n",
      "Displaying 1 of 1 matches:\n",
      " breast like snow . the fire had gone red . now it fell in with a sharp sound a\n",
      "no matches\n",
      "no matches\n",
      "no matches\n",
      "no matches\n",
      "no matches\n"
     ]
    }
   ],
   "source": [
    "TS=TGPALLparts[12]\n",
    "TSTokens=word_tokenize(TS)\n",
    "TStext=Text(TSTokens)\n",
    "TStext.concordance('blue', width=100)\n",
    "TStext.concordance('green', width=100)\n",
    "TStext.concordance('olive', width=100)\n",
    "TStext.concordance('pink', width=100)\n",
    "TStext.concordance('red', width=100)\n",
    "TStext.concordance('yellow', width=100)\n",
    "TStext.concordance('brown', width=100)\n",
    "TStext.concordance('salmon', width=100)\n",
    "TStext.concordance('purple', width=100)\n",
    "TStext.concordance('blonde', width=100)\n",
    "#The sentences with the words about color in \" The Stranger \".\n",
    "nC=3\n",
    "CFR=1/3"
   ]
  },
  {
   "cell_type": "code",
   "execution_count": 128,
   "metadata": {},
   "outputs": [
    {
     "name": "stdout",
     "output_type": "stream",
     "text": [
      "Displaying 3 of 3 matches:\n",
      "ears dingy white flannel trousers , a blue coat with a pink handkerchief showing\n",
      "ide trousers , `` hospital boys '' in blue -- -the sun discovers them -- -the lo\n",
      "rs , emerald green , scarlet , bright blue , canary yellow . even the babies wea\n",
      "Displaying 1 of 1 matches:\n",
      "ovely , streaming feathers , emerald green , scarlet , bright blue , canary yel\n",
      "no matches\n",
      "Displaying 3 of 3 matches:\n",
      " pink face wears dingy white flannel trouse\n",
      "flannel trousers , a blue coat with a pink handkerchief showing , and a straw ha\n",
      "unlight opposite the fruit-shop ; the pink spider of a hand beats the guitar , t\n",
      "no matches\n",
      "Displaying 2 of 2 matches:\n",
      "een , scarlet , bright blue , canary yellow . even the babies wear feathers thre\n",
      "mons like blunted fishes blob in the yellow water . it looks solid , like a jell\n",
      "no matches\n",
      "no matches\n",
      "no matches\n",
      "Displaying 2 of 2 matches:\n",
      "nd have three children . beware of a blonde woman . '' look out ! look out ! a m\n",
      "shing down the hill . inside there a blonde woman , pouting , leaning forward --\n"
     ]
    }
   ],
   "source": [
    "BH=TGPALLparts[13]\n",
    "BHTokens=word_tokenize(BH)\n",
    "BHtext=Text(BHTokens)\n",
    "BHtext.concordance('blue', width=100)\n",
    "BHtext.concordance('green', width=100)\n",
    "BHtext.concordance('olive', width=100)\n",
    "BHtext.concordance('pink', width=100)\n",
    "BHtext.concordance('red', width=100)\n",
    "BHtext.concordance('yellow', width=100)\n",
    "BHtext.concordance('brown', width=100)\n",
    "BHtext.concordance('salmon', width=100)\n",
    "BHtext.concordance('purple', width=100)\n",
    "BHtext.concordance('blonde', width=100)\n",
    "#The sentences with the words about color in \" Bank Holiday\n",
    "nC=11\n",
    "CFR=2/11\n"
   ]
  },
  {
   "cell_type": "code",
   "execution_count": 129,
   "metadata": {},
   "outputs": [
    {
     "name": "stdout",
     "output_type": "stream",
     "text": [
      "Displaying 1 of 1 matches:\n",
      "ulle curtains floating outwards , its blue jars of hyacinths on the broad sills \n",
      "no matches\n",
      "no matches\n",
      "no matches\n",
      "no matches\n",
      "Displaying 1 of 1 matches:\n",
      "d . `` that 's what i mean , mummy . yellow , with touches of silver . do n't yo\n",
      "no matches\n",
      "no matches\n",
      "no matches\n",
      "no matches\n"
     ]
    }
   ],
   "source": [
    "AIF=TGPALLparts[14]\n",
    "AIFTokens=word_tokenize(AIF)\n",
    "AIFtext=Text(AIFTokens)\n",
    "AIFtext.concordance('blue', width=100)\n",
    "AIFtext.concordance('green', width=100)\n",
    "AIFtext.concordance('olive', width=100)\n",
    "AIFtext.concordance('pink', width=100)\n",
    "AIFtext.concordance('red', width=100)\n",
    "AIFtext.concordance('yellow', width=100)\n",
    "AIFtext.concordance('brown', width=100)\n",
    "AIFtext.concordance('salmon', width=100)\n",
    "AIFtext.concordance('purple', width=100)\n",
    "AIFtext.concordance('blonde', width=100)\n",
    "#The sentences with the words about color in \" Bank Holiday”\n",
    "nC=2\n",
    "CFR=1/2\n"
   ]
  },
  {
   "cell_type": "code",
   "execution_count": 130,
   "metadata": {},
   "outputs": [
    {
     "name": "stdout",
     "output_type": "stream",
     "text": [
      "Displaying 1 of 1 matches:\n",
      "er-grey , with little red saddles and blue bridles and bells jing-a-jingling on \n",
      "no matches\n",
      "no matches\n",
      "no matches\n",
      "Displaying 3 of 3 matches:\n",
      "keeps a list of the names in a little red book . oh dear ! whenever some one ne\n",
      "rwards , `` ellen , give me my little red book , '' i feel quite wild , i do . \n",
      "re a lovely silver-grey , with little red saddles and blue bridles and bells ji\n",
      "no matches\n",
      "no matches\n",
      "no matches\n",
      "Displaying 1 of 1 matches:\n",
      "neck i put a bunch of most beautiful purple pansies . those pansies made a pictu\n",
      "no matches\n"
     ]
    }
   ],
   "source": [
    "TLM=TGPALLparts[15]\n",
    "TLMTokens=word_tokenize(TLM)\n",
    "TLMtext=Text(TLMTokens)\n",
    "TLMtext.concordance('blue', width=100)\n",
    "TLMtext.concordance('green', width=100)\n",
    "TLMtext.concordance('olive', width=100)\n",
    "TLMtext.concordance('pink', width=100)\n",
    "TLMtext.concordance('red', width=100)\n",
    "TLMtext.concordance('yellow', width=100)\n",
    "TLMtext.concordance('brown', width=100)\n",
    "TLMtext.concordance('salmon', width=100)\n",
    "TLMtext.concordance('purple', width=100)\n",
    "TLMtext.concordance('blonde', width=100)\n",
    "#The sentences with the words about color in \" The Ladys Maid”\n",
    "nC=5\n",
    "CFR=0/5"
   ]
  },
  {
   "cell_type": "code",
   "execution_count": 133,
   "metadata": {},
   "outputs": [],
   "source": [
    "DicOfnC={\"At the Bay\": 54, \n",
    "         \"The Garden Party\":11,\n",
    "         \"The Daughters of the Late Colonel\":8,\n",
    "         \"Mr. and Mrs. TLM\":12,\n",
    "         \"The Young Girl\":9,\n",
    "         \"Life of Ma Parker\":1,\n",
    "         \"Marriage a la Mode\":11,\n",
    "         \"The Voyage\":7,\n",
    "         \"Miss Brill\":11,\n",
    "         \"Her First Ball\":7,\n",
    "         \"The Singing Lesson\":10,\n",
    "         \"The Stranger\":3,\n",
    "         \"Bank Holiday\":11,\n",
    "         \"An Ideal Family\":2,\n",
    "         \"The Ladys Maid\":5}"
   ]
  },
  {
   "cell_type": "code",
   "execution_count": 141,
   "metadata": {},
   "outputs": [
    {
     "data": {
      "text/plain": [
       "<matplotlib.axes._subplots.AxesSubplot at 0x1a20defd68>"
      ]
     },
     "execution_count": 141,
     "metadata": {},
     "output_type": "execute_result"
    },
    {
     "data": {
      "image/png": "[encoded data removed]",
      "text/plain": [
       "<Figure size 720x432 with 1 Axes>"
      ]
     },
     "metadata": {},
     "output_type": "display_data"
    }
   ],
   "source": [
    "pd.Series(DicOfnC).plot(kind='bar')\n",
    "# the figure shows number of words about color in every article in the corpus."
   ]
  },
  {
   "cell_type": "code",
   "execution_count": 138,
   "metadata": {},
   "outputs": [],
   "source": [
    "DicOfnC1={\"At the Bay\": 17/54, \n",
    "         \"The Garden Party\":3/11,\n",
    "         \"The Daughters of the Late Colonel\":4/8,\n",
    "         \"Mr. and Mrs. TLM\":1/12,\n",
    "         \"The Young Girl\":2/9,\n",
    "         \"Life of Ma Parker\":1/1,\n",
    "         \"Marriage a la Mode\":5/11,\n",
    "         \"The Voyage\":1/7,\n",
    "         \"Miss Brill\":2/11,\n",
    "         \"Her First Ball\":0/7,\n",
    "         \"The Singing Lesson\":1/10,\n",
    "         \"The Stranger\":1/3,\n",
    "         \"Bank Holiday\":2/11,\n",
    "         \"An Ideal Family\":1/2,\n",
    "         \"The Ladys Maid\":0/5}"
   ]
  },
  {
   "cell_type": "code",
   "execution_count": 139,
   "metadata": {},
   "outputs": [
    {
     "data": {
      "text/plain": [
       "<matplotlib.axes._subplots.AxesSubplot at 0x1a1f75d080>"
      ]
     },
     "execution_count": 139,
     "metadata": {},
     "output_type": "execute_result"
    },
    {
     "data": {
      "image/png": "[encoded data removed]",
      "text/plain": [
       "<Figure size 720x432 with 1 Axes>"
      ]
     },
     "metadata": {},
     "output_type": "display_data"
    }
   ],
   "source": [
    "pd.Series(DicOfnC1).plot(kind='bar')\n",
    "# the figure shows  about color in every article in the corpus."
   ]
  },
  {
   "cell_type": "markdown",
   "metadata": {},
   "source": [
    "Arguement \n",
    "    According to the two figures below, the first figure shows that every novel has the words of colors in the corpus. In \"The Bay\", there are about 54 words about colors. It means Katherine Mansfield is good at or like using the color words in the novels.The second figure shew most novels(13 of 15) have the color words with different functions. And more than a half of the rate is more than 1/5, which shew that Katherine Mansfield did well in applying different functions in her noverls. However, the test has some limitations. The colors words in most novels are less than ten, which has a serious impact on the accuracy of the test. Besides, some words including more than one functions and some words are hard to distinguish the fucntions, which made an impact on the caculatiosn of the rate.\n",
    "    \n",
    "Conclusion\n",
    "    From the results of the tests, the functions of colors  in Katherine Mansfield \"The Garden Party \" and other stories are abundent-- not just as adjective words for describing things. But, the tests are required to be improved by testing more novels written by Katherine Mansfield.\n",
    "\n"
   ]
  },
  {
   "cell_type": "markdown",
   "metadata": {},
   "source": [
    "Bibliography\n",
    "\n",
    "Cerrato, Herman. \"The meaning of colors.\" Viitattu 18 (2012): 2017.\n",
    "\n",
    "Niu, Shuwen, et al. \"Economic Growth, Energy Conservation and Emissions Reduction: A Comparative Analysis Based on Panel Data for 8 Asian-Pacific Countries.\" Energy Policy 39.4 (2011): 2121. ProQuest. 31 July 2018 ."
   ]
  },
  {
   "cell_type": "code",
   "execution_count": null,
   "metadata": {},
   "outputs": [],
   "source": []
  },
  {
   "cell_type": "markdown",
   "metadata": {},
   "source": [
    "### Wordcount Function\n",
    "\n",
    "Please replace `Yourname-Final.ipynb` with the filename of this notebook. For instance, if my name is Jonathan, and I've renamed this notebook to `Jonathan-Final.ipynb`, I'd change `filename = 'Yourname-Final.ipynb'` below to `filename = 'Jonathan-Final.ipynb`. "
   ]
  },
  {
   "cell_type": "code",
   "execution_count": null,
   "metadata": {},
   "outputs": [],
   "source": []
  },
  {
   "cell_type": "code",
   "execution_count": 8,
   "metadata": {},
   "outputs": [
    {
     "name": "stdout",
     "output_type": "stream",
     "text": [
      "Total words: 1311\n"
     ]
    }
   ],
   "source": [
    "filename = 'Wangdong-Final.ipynb'\n",
    "\n",
    "if filename == 'Yourname-Final.ipynb': \n",
    "    raise ValueError(\"You forgot to change the filename above!\")\n",
    "\n",
    "with open(filename, encoding='utf-8') as f:\n",
    "    nb = current.read(f, 'json')\n",
    "\n",
    "wordCount = 0\n",
    "\n",
    "for cell in nb.worksheets[0].cells:\n",
    "    if cell.cell_type == \"markdown\":\n",
    "        wordCount += len(cell['source'].replace('#', '').lstrip().split(' '))\n",
    "\n",
    "# This is the word count of my instructions. \n",
    "# My instructions obviously don't count toward the final word count, \n",
    "tare = 533\n",
    "\n",
    "wordCount = wordCount - tare\n",
    "\n",
    "print(\"Total words: {}\".format(wordCount))\n",
    "\n",
    "if wordCount < 1000: \n",
    "    raise Warning('Your paper has not yet met the minimum required length.')\n",
    "if wordCount > 2000: \n",
    "    raise Warning('Your paper has exceeded the maximum allowed length. Please edit for concision.')"
   ]
  }
 ],
 "metadata": {
  "kernelspec": {
   "display_name": "Python 3",
   "language": "python",
   "name": "python3"
  },
  "language_info": {
   "codemirror_mode": {
    "name": "ipython",
    "version": 3
   },
   "file_extension": ".py",
   "mimetype": "text/x-python",
   "name": "python",
   "nbconvert_exporter": "python",
   "pygments_lexer": "ipython3",
   "version": "3.6.5"
  }
 },
 "nbformat": 4,
 "nbformat_minor": 2
}
